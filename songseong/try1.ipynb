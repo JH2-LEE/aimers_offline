{
 "cells": [
  {
   "cell_type": "code",
   "execution_count": null,
   "metadata": {},
   "outputs": [],
   "source": [
    "train = pd.read_csv('/root/workspace/open/train.csv')\n",
    "sales = pd.read_csv('/root/workspace/open/sales.csv')\n",
    "info = pd.read_csv('/root/workspace/open/product_info.csv')\n",
    "brand = pd.read_csv('/root/workspace/open/brand_keyword_cnt.csv')"
   ]
  },
  {
   "cell_type": "code",
   "execution_count": null,
   "metadata": {},
   "outputs": [],
   "source": []
  }
 ],
 "metadata": {
  "kernelspec": {
   "display_name": "Python 3",
   "language": "python",
   "name": "python3"
  },
  "orig_nbformat": 4
 },
 "nbformat": 4,
 "nbformat_minor": 2
}
